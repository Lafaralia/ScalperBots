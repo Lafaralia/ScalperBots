{
  "nbformat": 4,
  "nbformat_minor": 0,
  "metadata": {
    "colab": {
      "name": "Config.ipynb",
      "private_outputs": true,
      "provenance": [],
      "collapsed_sections": [],
      "authorship_tag": "ABX9TyPklG1Ug2P8FoPvzK8f1Xqu",
      "include_colab_link": true
    },
    "kernelspec": {
      "name": "python3",
      "display_name": "Python 3"
    },
    "language_info": {
      "name": "python"
    }
  },
  "cells": [
    {
      "cell_type": "markdown",
      "metadata": {
        "id": "view-in-github",
        "colab_type": "text"
      },
      "source": [
        "<a href=\"https://colab.research.google.com/github/Lafaralia/ScalperBots/blob/main/Config.ipynb\" target=\"_parent\"><img src=\"https://colab.research.google.com/assets/colab-badge.svg\" alt=\"Open In Colab\"/></a>"
      ]
    },
    {
      "cell_type": "code",
      "metadata": {
        "id": "hTAVKYbo4kRU"
      },
      "source": [
        "API_KEY = 'SB7ZuqA8Y8RYLq7mtkQsgWXlbzkkNASgCOsCTJdCPrXk5FpLjxzYVax20mvcxgcp'\n",
        "API_SECRET = 'fsn7bQTKRyjPAqcQLXEkE6GkPQ6CFbfMGKe8sSpzOFTdEN6TpLJcs5yQOMGqS7iR'"
      ],
      "execution_count": null,
      "outputs": []
    }
  ]
}